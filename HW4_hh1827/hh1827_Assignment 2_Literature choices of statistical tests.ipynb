{
 "cells": [
  {
   "cell_type": "markdown",
   "metadata": {},
   "source": [
    "| **Statistical Analyses | IV(s) | IV type(s)  |DV(s)  | DV type(s) | Control Var  | Control Var type | Question to be answered | _H0_ | alpha | link to paper ** |\n",
    "| ------ |:--------:| -----:| ------:| ------:| ------:| ------:| ------:| ------:| ------:| ------:|\n",
    "| Logistic Regression | 7, BMI, TA/systole, TA/diastole, liver right lobe, hilus big, hilus down, lung arbrz | Categorical | 1,diagnosed as obisity or no | Categorical | 0 | NA | Diagnosing whether a subject is obese according to his/her performance in terms of given medical parameters | Logit p(healthy 0, obese 1) != a*BMI + b*TA systole + c*TA diastole + d*liver right lobe + e*hilus down + f*hilus big g*lung arbrz| 0.05 | [The Classification of Obesity Disease in Logistic Regression and Neural Network Methods](https://link.springer.com/article/10.1007%2Fs10916-008-9165-5#Sec6) | | \n"
   ]
  },
  {
   "cell_type": "markdown",
   "metadata": {},
   "source": [
    "| **Statistical Analyses | IV(s) | IV type(s)  |DV(s)  | DV type(s) | Control Var  | Control Var type | Question to be answered | _H0_ | alpha | link to paper ** |\n",
    "| ------ |:--------:| -----:| ------:| ------:| ------:| ------:| ------:| ------:| ------:| ------:|\n",
    "| ANOVA | right-aligned | $1600 | a | b | c | d | e | f | g | h | \n"
   ]
  },
  {
   "cell_type": "markdown",
   "metadata": {},
   "source": [
    "| **Statistical Analyses | IV(s) | IV type(s)  |DV(s)  | DV type(s) | Control Var  | Control Var type | Question to be answered | _H0_ | alpha | link to paper ** |\n",
    "| ------ |:--------:| -----:| ------:| ------:| ------:| ------:| ------:| ------:| ------:| ------:|\n",
    "| Correlation | right-aligned | $1600 | a | b | c | d | e | f | g | h | \n"
   ]
  },
  {
   "cell_type": "code",
   "execution_count": null,
   "metadata": {
    "collapsed": true
   },
   "outputs": [],
   "source": []
  }
 ],
 "metadata": {
  "kernelspec": {
   "display_name": "PUI2016_Python2",
   "language": "python",
   "name": "pui2016_python2"
  },
  "language_info": {
   "codemirror_mode": {
    "name": "ipython",
    "version": 2
   },
   "file_extension": ".py",
   "mimetype": "text/x-python",
   "name": "python",
   "nbconvert_exporter": "python",
   "pygments_lexer": "ipython2",
   "version": "2.7.12"
  }
 },
 "nbformat": 4,
 "nbformat_minor": 0
}
