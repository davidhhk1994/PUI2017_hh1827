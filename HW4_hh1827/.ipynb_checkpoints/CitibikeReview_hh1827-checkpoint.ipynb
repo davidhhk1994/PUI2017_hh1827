{
 "cells": [
  {
   "cell_type": "markdown",
   "metadata": {},
   "source": [
    "# My Comments on  Rachel Xin Rong Lim's (rxl204) Citibike Mini-Project"
   ]
  },
  {
   "cell_type": "markdown",
   "metadata": {},
   "source": [
    "## 1. Null and alternative hypotheses "
   ]
  },
  {
   "cell_type": "markdown",
   "metadata": {},
   "source": [
    "#### a. Alternative Hypothesis is not presented.\n",
    "#### b. Significant level is not chosen. In this case a significant level of 0.05 is suggested. \n",
    "#### c. Null Hypothesis seems not very relevant to the idea to be tested. Since the idea wants to compare the behaviour of Customer and Subsccriber on ANY DAY, it seems a bit irrelevant to calculate and compare the ratio between weekends and weekdays. Furthermore, Null Hypothesis is supposed to be the opposite of the idea. Only by doing this can we prove the idea by rejecting Null. My suggestion would be: H0: the mean number of customers is equal to or higher than the mean number of subscribers. \n",
    "#### d. Corresponding Aternative Hypothesis would be: H1: the mean number of customers is less than the mean number of subscribers.\n",
    "#### e. Formula expressions of H0 and H1 are missing. Suggested formula would be: H0: μC >= μS; H1: μC < μS"
   ]
  },
  {
   "cell_type": "markdown",
   "metadata": {},
   "source": [
    "## 2. Data relavancy and quality of preparation"
   ]
  },
  {
   "cell_type": "markdown",
   "metadata": {},
   "source": [
    "#### a. Redundant data are discarded and highly relevant data (user type and time) are preserved and cleared up.\n",
    "#### b. If the suggestion on restructuring H0 and H1 is adopted, following statistics should be calculated: the number of subscribers and customers on each day, the mean number of subscribers and customers of a single day. "
   ]
  },
  {
   "cell_type": "markdown",
   "metadata": {},
   "source": [
    "## 3. Test selection according to the flow chart"
   ]
  },
  {
   "cell_type": "markdown",
   "metadata": {},
   "source": [
    "#### The test is selected with reference to the online article (https://www.ncbi.nlm.nih.gov/pmc/articles/PMC3116565/) provided by Dr. Bianco. Since male and female are two unpaired categorical variables, and there are only 2 groups, according to figure 1 in the article, Chi Squared Test is chosen for this hypothesis testing. "
   ]
  },
  {
   "cell_type": "markdown",
   "metadata": {},
   "source": [
    "## 4. Additional Suggestions"
   ]
  },
  {
   "cell_type": "markdown",
   "metadata": {},
   "source": [
    "#### My final suggestions for Ms. Lim is to revise the original idea she wanted to test. From the bar chart in the assignment we are able to see a clear pattern that on each day the number of subscribers is remarkably higher than that of customers, hence the motivation for doing a Hopothesis test to show that there are more subscribers than customers everyday is not that strong. Rather, an alternative idea could be: \"customers has stronger preference to use Citibike on weekends more often than Subscribers\". In this case we can compare the ratios of weekend over weekday bike usage between to user types and hypothesis testing would be more necesssary. "
   ]
  },
  {
   "cell_type": "code",
   "execution_count": null,
   "metadata": {
    "collapsed": true
   },
   "outputs": [],
   "source": []
  }
 ],
 "metadata": {
  "kernelspec": {
   "display_name": "PUI2016_Python2",
   "language": "python",
   "name": "pui2016_python2"
  },
  "language_info": {
   "codemirror_mode": {
    "name": "ipython",
    "version": 2
   },
   "file_extension": ".py",
   "mimetype": "text/x-python",
   "name": "python",
   "nbconvert_exporter": "python",
   "pygments_lexer": "ipython2",
   "version": "2.7.12"
  }
 },
 "nbformat": 4,
 "nbformat_minor": 0
}
